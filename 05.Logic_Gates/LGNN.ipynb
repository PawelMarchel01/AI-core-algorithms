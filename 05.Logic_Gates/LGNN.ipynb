{
  "nbformat": 4,
  "nbformat_minor": 0,
  "metadata": {
    "colab": {
      "provenance": []
    },
    "kernelspec": {
      "name": "python3",
      "display_name": "Python 3"
    },
    "language_info": {
      "name": "python"
    }
  },
  "cells": [
    {
      "cell_type": "markdown",
      "source": [
        "# Logic Gate Neural Network with Genetic Algorithm\n",
        "\n",
        "In this notebook, we build a simple neural network composed entirely of logic gates (AND, OR, XOR, NOT).  \n",
        "Each neuron applies a logic operation to its binary inputs, and the network is organized in layers.\n",
        "\n",
        "Once a target logic gate neural network is created, we use a **Genetic Algorithm (GA)** to evolve a new network that replicates the target's internal structure.  \n",
        "The goal is for the GA to discover a network with the same configuration of logic gates and connections as the original.\n",
        "\n",
        "This approach demonstrates how evolutionary techniques can be used to reverse-engineer or approximate logical architectures without access to internal parameters—just using their behavior and structure.\n"
      ],
      "metadata": {
        "id": "iflMsBggMvqh"
      }
    },
    {
      "cell_type": "code",
      "source": [
        "import numpy as np\n",
        "import copy"
      ],
      "metadata": {
        "id": "Kn5XKdupe4G_"
      },
      "execution_count": null,
      "outputs": []
    },
    {
      "cell_type": "markdown",
      "source": [
        "## Logic Gate Functions"
      ],
      "metadata": {
        "id": "KMw9GdBSOEFc"
      }
    },
    {
      "cell_type": "code",
      "source": [
        "def AND(a, b):\n",
        "    return a & b\n",
        "\n",
        "def OR(a, b):\n",
        "    return a | b\n",
        "\n",
        "def XOR(a, b):\n",
        "    return a ^ b\n",
        "\n",
        "def NOT(a):\n",
        "    return ~a & 1"
      ],
      "metadata": {
        "id": "neOvg6wWZRSK"
      },
      "execution_count": null,
      "outputs": []
    },
    {
      "cell_type": "code",
      "source": [
        "gate_functions = {\n",
        "    \"AND\": AND,\n",
        "    \"OR\": OR,\n",
        "    \"XOR\": XOR,\n",
        "    \"NOT\": NOT,\n",
        "}"
      ],
      "metadata": {
        "id": "q2UcDqalZPfP"
      },
      "execution_count": null,
      "outputs": []
    },
    {
      "cell_type": "markdown",
      "source": [
        "## LogicGateNeuron Class\n",
        "\n",
        "Represents a single neuron that applies a logic gate operator to its inputs.\n",
        "\n",
        "- Stores the operator type (AND, OR, XOR, NOT).\n",
        "- Holds indices of inputs it uses.\n",
        "- Computes output by applying the operator on selected inputs.\n",
        "- Can mutate its operator and inputs randomly."
      ],
      "metadata": {
        "id": "v5q4eCX2M4I4"
      }
    },
    {
      "cell_type": "code",
      "source": [
        "class LogicGateNeuron:\n",
        "    def __init__(self, operator=\"AND\", inputs=None):\n",
        "        self.operator = operator\n",
        "        self.inputs = inputs if inputs is not None else []\n",
        "\n",
        "    def compute(self, input_values):\n",
        "        if self.operator == \"NOT\":\n",
        "            return NOT(input_values[self.inputs[0]])\n",
        "        elif len(self.inputs) == 2:\n",
        "            a, b = input_values[self.inputs[0]], input_values[self.inputs[1]]\n",
        "            return gate_functions[self.operator](a, b)\n",
        "        else:\n",
        "            raise ValueError(f\"Invalid number of inputs for operator {self.operator}\")\n",
        "\n",
        "    def mutate(self, num_inputs):\n",
        "        if num_inputs == 1:\n",
        "            self.operator = \"NOT\"\n",
        "            self.inputs = [0]\n",
        "        else:\n",
        "            self.operator = np.random.choice(list(gate_functions.keys()))\n",
        "            num_selected_inputs = 1 if self.operator == \"NOT\" else 2\n",
        "            self.inputs = np.random.choice(range(num_inputs), size=num_selected_inputs, replace=False).tolist()\n",
        "\n",
        "    def __repr__(self):\n",
        "        return f\"{self.operator}({', '.join(map(str, self.inputs))})\"\n"
      ],
      "metadata": {
        "id": "SPA28O4EZK2U"
      },
      "execution_count": null,
      "outputs": []
    },
    {
      "cell_type": "markdown",
      "source": [
        "## LogicGateLayer Class\n",
        "\n",
        "Represents a layer of logic gate neurons.\n",
        "\n",
        "- Initialized with a number of neurons and inputs.\n",
        "- Each neuron randomly selects two inputs initially.\n",
        "- Computes outputs by applying each neuron's logic gate.\n",
        "- Can mutate all neurons in the layer."
      ],
      "metadata": {
        "id": "6Rh8hSbzM8WD"
      }
    },
    {
      "cell_type": "code",
      "source": [
        "class LogicGateLayer:\n",
        "    def __init__(self, num_neurons, num_inputs):\n",
        "        self.neurons = [LogicGateNeuron(inputs=np.random.choice(range(num_inputs), size=2, replace=False).tolist())\n",
        "                        for _ in range(num_neurons)]\n",
        "\n",
        "    def compute(self, input_values):\n",
        "        return np.array([neuron.compute(input_values) for neuron in self.neurons])\n",
        "\n",
        "    def mutate(self, num_inputs):\n",
        "        for neuron in self.neurons:\n",
        "            neuron.mutate(num_inputs)\n",
        "\n",
        "    def __repr__(self):\n",
        "        return f\"Layer: [{', '.join(map(str, self.neurons))}]\""
      ],
      "metadata": {
        "id": "Oa7kX_leZK4x"
      },
      "execution_count": null,
      "outputs": []
    },
    {
      "cell_type": "markdown",
      "source": [
        "## LogicGateNetwork Class\n",
        "\n",
        "Represents the full network composed of multiple layers.\n",
        "\n",
        "- Layers are created sequentially, each taking inputs from the previous layer.\n",
        "- The first layer takes the network input.\n",
        "- The network propagates input through all layers to produce output.\n",
        "- Supports mutation of all layers to randomly change neuron gates and inputs."
      ],
      "metadata": {
        "id": "H120z4lDNBKo"
      }
    },
    {
      "cell_type": "code",
      "source": [
        "class LogicGateNetwork:\n",
        "    def __init__(self, layer_sizes, input_size):\n",
        "        self.layers = []\n",
        "        current_input_size = input_size\n",
        "        for size in layer_sizes:\n",
        "            self.layers.append(LogicGateLayer(size, current_input_size))\n",
        "            current_input_size = size\n",
        "\n",
        "    def compute(self, input_values):\n",
        "        for layer in self.layers:\n",
        "            input_values = layer.compute(input_values)\n",
        "        return input_values\n",
        "\n",
        "    def mutate(self):\n",
        "        \"\"\"Mutuje całą sieć.\"\"\"\n",
        "        for i, layer in enumerate(self.layers):\n",
        "            num_inputs = len(self.layers[i - 1].neurons) if i > 0 else len(self.layers[0].neurons[0].inputs)\n",
        "            layer.mutate(num_inputs)\n",
        "\n",
        "    def __repr__(self):\n",
        "        return '\\n'.join([f\"Layer {i}: {layer}\" for i, layer in enumerate(self.layers)])"
      ],
      "metadata": {
        "id": "STqmCO-pZK7h"
      },
      "execution_count": null,
      "outputs": []
    },
    {
      "cell_type": "markdown",
      "source": [
        "## Data Generation and Mutation\n",
        "\n",
        "- Generates random binary inputs and computes corresponding outputs using the network.\n",
        "- Prints initial network structure and generated data samples.\n",
        "- Applies mutation to the network (random changes to neurons).\n",
        "- Prints network structure and outputs after mutation to observe changes."
      ],
      "metadata": {
        "id": "BVVeg0sfNLN5"
      }
    },
    {
      "cell_type": "code",
      "source": [
        "def generate_data(network, num_samples, input_size):\n",
        "    inputs = [np.random.randint(0, 2, size=input_size) for _ in range(num_samples)]\n",
        "    outputs = [network.compute(inp) for inp in inputs]\n",
        "    return inputs, outputs"
      ],
      "metadata": {
        "id": "Fw_RkVN2hNr9"
      },
      "execution_count": null,
      "outputs": []
    },
    {
      "cell_type": "code",
      "source": [
        "network = LogicGateNetwork(layer_sizes=[4, 3, 1], input_size=3)\n",
        "\n",
        "print(\"Initial network structure:\")\n",
        "print(network)\n",
        "\n",
        "num_samples = 10\n",
        "input_size = 3\n",
        "inputs, outputs = generate_data(network, num_samples, input_size)\n",
        "\n",
        "print(\"\\nGenerated data:\")\n",
        "for i, (inp, out) in enumerate(zip(inputs, outputs)):\n",
        "    print(f\"Sample {i + 1}: Input: {inp}, Output: {out}\")\n",
        "\n",
        "network.mutate()\n",
        "print(\"\\nNetwork structure after mutation:\")\n",
        "print(network)\n",
        "\n",
        "outputs_after_mutation = [network.compute(inp) for inp in inputs]\n",
        "print(\"\\nOutputs after mutation:\")\n",
        "for i, (inp, out) in enumerate(zip(inputs, outputs_after_mutation)):\n",
        "    print(f\"Sample {i + 1}: Input: {inp}, Output after mutation: {out}\")"
      ],
      "metadata": {
        "colab": {
          "base_uri": "https://localhost:8080/"
        },
        "id": "DWOzoddShCAa",
        "outputId": "658dd1eb-5747-45b5-fb37-4c3897edd489"
      },
      "execution_count": null,
      "outputs": [
        {
          "output_type": "stream",
          "name": "stdout",
          "text": [
            "Initial network structure:\n",
            "Layer 0: Layer: [AND(0, 1), AND(2, 0), AND(1, 0), AND(1, 0)]\n",
            "Layer 1: Layer: [AND(1, 0), AND(2, 0), AND(3, 0)]\n",
            "Layer 2: Layer: [AND(1, 0)]\n",
            "\n",
            "Generated data:\n",
            "Sample 1: Input: [0 1 0], Output: [0]\n",
            "Sample 2: Input: [1 1 1], Output: [1]\n",
            "Sample 3: Input: [1 1 0], Output: [0]\n",
            "Sample 4: Input: [0 0 1], Output: [0]\n",
            "Sample 5: Input: [1 0 1], Output: [0]\n",
            "Sample 6: Input: [1 0 1], Output: [0]\n",
            "Sample 7: Input: [1 1 0], Output: [0]\n",
            "Sample 8: Input: [1 0 0], Output: [0]\n",
            "Sample 9: Input: [0 1 0], Output: [0]\n",
            "Sample 10: Input: [1 1 1], Output: [1]\n",
            "\n",
            "Network structure after mutation:\n",
            "Layer 0: Layer: [AND(0, 1), NOT(0), OR(1, 0), AND(0, 1)]\n",
            "Layer 1: Layer: [OR(1, 3), AND(1, 3), AND(3, 1)]\n",
            "Layer 2: Layer: [NOT(1)]\n",
            "\n",
            "Outputs after mutation:\n",
            "Sample 1: Input: [0 1 0], Output after mutation: [1]\n",
            "Sample 2: Input: [1 1 1], Output after mutation: [1]\n",
            "Sample 3: Input: [1 1 0], Output after mutation: [1]\n",
            "Sample 4: Input: [0 0 1], Output after mutation: [1]\n",
            "Sample 5: Input: [1 0 1], Output after mutation: [1]\n",
            "Sample 6: Input: [1 0 1], Output after mutation: [1]\n",
            "Sample 7: Input: [1 1 0], Output after mutation: [1]\n",
            "Sample 8: Input: [1 0 0], Output after mutation: [1]\n",
            "Sample 9: Input: [0 1 0], Output after mutation: [1]\n",
            "Sample 10: Input: [1 1 1], Output after mutation: [1]\n"
          ]
        }
      ]
    },
    {
      "cell_type": "markdown",
      "source": [
        "# Genetic Algorithm for Logic Gate Network Optimization\n",
        "\n",
        "This section implements a Genetic Algorithm (GA) to evolve a population of logic gate networks to match a target network structure."
      ],
      "metadata": {
        "id": "uMYwRgCKNbQ0"
      }
    },
    {
      "cell_type": "code",
      "source": [
        "class GeneticAlgorithm:\n",
        "    def __init__(self, target_network, input_data, input_size, layer_sizes, population_size=50, mutation_rate=0.2, crossover_rate=0.5):\n",
        "        self.target_network = target_network\n",
        "        self.target_structure = self.net(target_network)\n",
        "        self.input_data = input_data\n",
        "        self.input_size = input_size\n",
        "        self.layer_sizes = layer_sizes\n",
        "        self.population_size = population_size\n",
        "        self.mutation_rate = mutation_rate\n",
        "        self.crossover_rate = crossover_rate\n",
        "        self.population = [LogicGateNetwork(layer_sizes, input_size) for _ in range(population_size)]\n",
        "\n",
        "    def net(self, network):\n",
        "        structure = []\n",
        "        for layer in network.layers:\n",
        "            layer_structure = [(neuron.operator, neuron.inputs) for neuron in layer.neurons]\n",
        "            structure.append(layer_structure)\n",
        "        return structure\n",
        "\n",
        "    def fitness(self, network):\n",
        "        network_structure = self.net(network)\n",
        "        score = 0\n",
        "\n",
        "        for target_layer, candidate_layer in zip(self.target_structure, network_structure):\n",
        "            for (target_operator, target_inputs), (candidate_operator, candidate_inputs) in zip(target_layer, candidate_layer):\n",
        "                if target_operator == candidate_operator and target_inputs == candidate_inputs:\n",
        "                    score += 1\n",
        "\n",
        "        return score\n",
        "\n",
        "    def select(self):\n",
        "        fitnesses = np.array([self.fitness(network) for network in self.population])\n",
        "        probabilities = np.exp(fitnesses - np.max(fitnesses))\n",
        "        probabilities /= np.sum(probabilities)\n",
        "        return np.random.choice(self.population, p=probabilities)\n",
        "\n",
        "    def crossover(self, parent1, parent2):\n",
        "        child = copy.deepcopy(parent1)\n",
        "        for i, (layer1, layer2) in enumerate(zip(parent1.layers, parent2.layers)):\n",
        "            for j, (neuron1, neuron2) in enumerate(zip(layer1.neurons, layer2.neurons)):\n",
        "                if np.random.rand() < self.crossover_rate:\n",
        "                    child.layers[i].neurons[j] = copy.deepcopy(neuron2)\n",
        "        return child\n",
        "\n",
        "    def mutate(self, network):\n",
        "        if np.random.rand() < self.mutation_rate:\n",
        "            layer_idx = np.random.randint(len(network.layers))\n",
        "            neuron_idx = np.random.randint(len(network.layers[layer_idx].neurons))\n",
        "            num_inputs = len(network.layers[layer_idx - 1].neurons) if layer_idx > 0 else self.input_size\n",
        "            network.layers[layer_idx].neurons[neuron_idx].mutate(num_inputs=num_inputs)\n",
        "\n",
        "    def GA(self):\n",
        "\n",
        "        max_fitness = sum(len(layer) for layer in self.target_structure)\n",
        "        generation = 0\n",
        "\n",
        "        while True:\n",
        "            new_population = []\n",
        "            for _ in range(self.population_size):\n",
        "                parent1 = self.select()\n",
        "                parent2 = self.select()\n",
        "                child = self.crossover(parent1, parent2)\n",
        "                self.mutate(child)\n",
        "                new_population.append(child)\n",
        "            self.population = new_population\n",
        "\n",
        "            best_network = max(self.population, key=self.fitness)\n",
        "            best_fitness = self.fitness(best_network)\n",
        "\n",
        "            if generation % 100 == 0:\n",
        "                print(f\"Generation {generation}, Best Fitness: {best_fitness}\")\n",
        "\n",
        "            if best_fitness == max_fitness:\n",
        "                print(f\"Generation: {generation}\")\n",
        "                return best_network\n",
        "\n",
        "            generation += 1"
      ],
      "metadata": {
        "id": "8Yo26RjVZ8si"
      },
      "execution_count": null,
      "outputs": []
    },
    {
      "cell_type": "markdown",
      "source": [
        "## Experiment Setup and Results\n",
        "\n",
        "- Target network initialized randomly and mutated.\n",
        "- Input samples generated.\n",
        "- GA runs to evolve networks that match the target.\n",
        "- Prints fitness progress every 100 generations.\n",
        "- Stops when an exact match is found or max fitness is reached."
      ],
      "metadata": {
        "id": "Gur9hy_2Np2F"
      }
    },
    {
      "cell_type": "code",
      "source": [
        "num_samples = 20\n",
        "input_size = 4\n",
        "network = LogicGateNetwork(layer_sizes=[6, 5, 3, 1], input_size=input_size)\n",
        "network.mutate()\n",
        "\n",
        "print(\"Target network:\")\n",
        "print(network)\n",
        "print(\" \")\n",
        "\n",
        "inputs, target_outputs = generate_data(network, num_samples, input_size)\n",
        "\n",
        "ga = GeneticAlgorithm(target_network=network, input_data=inputs, input_size=input_size, layer_sizes=[6, 5, 3, 1])\n",
        "found_network = ga.GA()\n",
        "\n",
        "print(\"\\nGA network:\")\n",
        "print(found_network)"
      ],
      "metadata": {
        "colab": {
          "base_uri": "https://localhost:8080/"
        },
        "id": "iEn5t5u8fsee",
        "outputId": "e6a123ee-be2a-4015-94cc-3da36a13e2b9"
      },
      "execution_count": null,
      "outputs": [
        {
          "output_type": "stream",
          "name": "stdout",
          "text": [
            "Target network:\n",
            "Layer 0: Layer: [AND(1, 0), XOR(0, 1), AND(0, 1), XOR(0, 1), OR(1, 0), XOR(1, 0)]\n",
            "Layer 1: Layer: [AND(0, 1), OR(1, 3), NOT(2), XOR(2, 1), XOR(3, 4)]\n",
            "Layer 2: Layer: [XOR(3, 0), XOR(3, 4), AND(3, 4)]\n",
            "Layer 3: Layer: [OR(0, 1)]\n",
            " \n",
            "Generation 0, Best Fitness: 2\n",
            "Generation 100, Best Fitness: 9\n",
            "Generation 200, Best Fitness: 12\n",
            "Generation 300, Best Fitness: 12\n",
            "Generation: 393\n",
            "\n",
            "GA network:\n",
            "Layer 0: Layer: [AND(1, 0), XOR(0, 1), AND(0, 1), XOR(0, 1), OR(1, 0), XOR(1, 0)]\n",
            "Layer 1: Layer: [AND(0, 1), OR(1, 3), NOT(2), XOR(2, 1), XOR(3, 4)]\n",
            "Layer 2: Layer: [XOR(3, 0), XOR(3, 4), AND(3, 4)]\n",
            "Layer 3: Layer: [OR(0, 1)]\n"
          ]
        }
      ]
    },
    {
      "cell_type": "markdown",
      "source": [
        "### Summary\n",
        "\n",
        "In this experiment, we aimed to reconstruct a target logic gate neural network using a genetic algorithm. The network consisted of 4 layers with various logic gates (AND, OR, XOR, NOT) as neurons.\n",
        "\n",
        "The genetic algorithm started with a randomly initialized population of networks and evolved them over generations using selection, crossover, and mutation based on structural fitness.\n",
        "\n",
        "- The process successfully reconstructed the **exact architecture** of the target network.\n",
        "- The target structure was fully recovered by **generation 393**, with a perfect fitness score.\n",
        "- This demonstrates that the genetic algorithm is effective at evolving logic-based neural architectures toward a known target structure.\n",
        "\n",
        "The result validates the approach and shows its potential for symbolic network design using evolutionary computation.\n"
      ],
      "metadata": {
        "id": "NP2JHlldPtBe"
      }
    }
  ]
}